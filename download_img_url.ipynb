{
 "cells": [
  {
   "cell_type": "code",
   "execution_count": 1,
   "metadata": {},
   "outputs": [
    {
     "name": "stdout",
     "output_type": "stream",
     "text": [
      "Requirement already up-to-date: google-api-python-client in c:\\programdata\\anaconda3\\lib\\site-packages (1.12.8)Note: you may need to restart the kernel to use updated packages.\n",
      "Requirement already satisfied, skipping upgrade: six<2dev,>=1.13.0 in c:\\programdata\\anaconda3\\lib\\site-packages (from google-api-python-client) (1.15.0)\n",
      "Requirement already satisfied, skipping upgrade: httplib2<1dev,>=0.15.0 in c:\\programdata\\anaconda3\\lib\\site-packages (from google-api-python-client) (0.18.1)\n",
      "Requirement already satisfied, skipping upgrade: google-auth-httplib2>=0.0.3 in c:\\programdata\\anaconda3\\lib\\site-packages (from google-api-python-client) (0.0.4)\n",
      "Requirement already satisfied, skipping upgrade: google-api-core<2dev,>=1.21.0 in c:\\programdata\\anaconda3\\lib\\site-packages (from google-api-python-client) (1.23.0)\n",
      "Requirement already satisfied, skipping upgrade: google-auth>=1.16.0 in c:\\programdata\\anaconda3\\lib\\site-packages (from google-api-python-client) (1.23.0)\n",
      "Requirement already satisfied, skipping upgrade: uritemplate<4dev,>=3.0.0 in c:\\programdata\\anaconda3\\lib\\site-packages (from google-api-python-client) (3.0.1)\n",
      "Requirement already satisfied, skipping upgrade: requests<3.0.0dev,>=2.18.0 in c:\\programdata\\anaconda3\\lib\\site-packages (from google-api-core<2dev,>=1.21.0->google-api-python-client) (2.24.0)\n",
      "Requirement already satisfied, skipping upgrade: protobuf>=3.12.0 in c:\\programdata\\anaconda3\\lib\\site-packages (from google-api-core<2dev,>=1.21.0->google-api-python-client) (3.14.0)\n",
      "Requirement already satisfied, skipping upgrade: pytz in c:\\programdata\\anaconda3\\lib\\site-packages (from google-api-core<2dev,>=1.21.0->google-api-python-client) (2020.1)\n",
      "Requirement already satisfied, skipping upgrade: setuptools>=34.0.0 in c:\\programdata\\anaconda3\\lib\\site-packages (from google-api-core<2dev,>=1.21.0->google-api-python-client) (49.2.0.post20200714)\n",
      "Requirement already satisfied, skipping upgrade: googleapis-common-protos<2.0dev,>=1.6.0 in c:\\programdata\\anaconda3\\lib\\site-packages (from google-api-core<2dev,>=1.21.0->google-api-python-client) (1.52.0)\n",
      "Requirement already satisfied, skipping upgrade: pyasn1-modules>=0.2.1 in c:\\programdata\\anaconda3\\lib\\site-packages (from google-auth>=1.16.0->google-api-python-client) (0.2.8)\n",
      "Requirement already satisfied, skipping upgrade: cachetools<5.0,>=2.0.0 in c:\\programdata\\anaconda3\\lib\\site-packages (from google-auth>=1.16.0->google-api-python-client) (4.1.1)\n",
      "\n",
      "Requirement already satisfied, skipping upgrade: rsa<5,>=3.1.4; python_version >= \"3.5\" in c:\\programdata\\anaconda3\\lib\\site-packages (from google-auth>=1.16.0->google-api-python-client) (4.6)\n",
      "Requirement already satisfied, skipping upgrade: idna<3,>=2.5 in c:\\programdata\\anaconda3\\lib\\site-packages (from requests<3.0.0dev,>=2.18.0->google-api-core<2dev,>=1.21.0->google-api-python-client) (2.10)\n",
      "Requirement already satisfied, skipping upgrade: chardet<4,>=3.0.2 in c:\\programdata\\anaconda3\\lib\\site-packages (from requests<3.0.0dev,>=2.18.0->google-api-core<2dev,>=1.21.0->google-api-python-client) (3.0.4)\n",
      "Requirement already satisfied, skipping upgrade: urllib3!=1.25.0,!=1.25.1,<1.26,>=1.21.1 in c:\\programdata\\anaconda3\\lib\\site-packages (from requests<3.0.0dev,>=2.18.0->google-api-core<2dev,>=1.21.0->google-api-python-client) (1.25.9)\n",
      "Requirement already satisfied, skipping upgrade: certifi>=2017.4.17 in c:\\programdata\\anaconda3\\lib\\site-packages (from requests<3.0.0dev,>=2.18.0->google-api-core<2dev,>=1.21.0->google-api-python-client) (2020.6.20)\n",
      "Requirement already satisfied, skipping upgrade: pyasn1<0.5.0,>=0.4.6 in c:\\programdata\\anaconda3\\lib\\site-packages (from pyasn1-modules>=0.2.1->google-auth>=1.16.0->google-api-python-client) (0.4.8)\n"
     ]
    }
   ],
   "source": [
    "pip install --upgrade google-api-python-client"
   ]
  },
  {
   "cell_type": "code",
   "execution_count": 43,
   "metadata": {},
   "outputs": [],
   "source": [
    "from google.oauth2 import service_account\n",
    "from googleapiclient.http import MediaIoBaseDownload,MediaFileUpload\n",
    "from googleapiclient.discovery import build\n",
    "import pprint\n",
    "import os\n",
    "import httplib2 \n",
    "import requests\n",
    "from oauth2client.service_account import ServiceAccountCredentials\n",
    "import urllib.request\n",
    "import zipfile\n",
    "from requests.exceptions import HTTPError\n",
    "\n",
    "pp = pprint.PrettyPrinter(indent=4)"
   ]
  },
  {
   "cell_type": "code",
   "execution_count": 30,
   "metadata": {},
   "outputs": [],
   "source": [
    "SCOPES = ['https://www.googleapis.com/auth/spreadsheets', 'https://www.googleapis.com/auth/drive']\n",
    "SERVICE_ACCOUNT_FILE = 'task2-download.json'\n",
    "SERVICE_ACCOUNT_FILE_w = 'task2-write.json'\n",
    "spreadsheet_id = '1A6XaXqjBvh78RvLkCjSu8C6MNlxMcGlU67L6R_8tpDI'"
   ]
  },
  {
   "cell_type": "code",
   "execution_count": 31,
   "metadata": {},
   "outputs": [],
   "source": [
    "credentials = ServiceAccountCredentials.from_json_keyfile_name(\n",
    "        SERVICE_ACCOUNT_FILE, scopes=SCOPES)\n",
    "httpAuth = credentials.authorize(httplib2.Http())\n",
    "service = build('sheets', 'v4', http = httpAuth)\n",
    "\n",
    "credentials_w = ServiceAccountCredentials.from_json_keyfile_name(\n",
    "        SERVICE_ACCOUNT_FILE_w, scopes=SCOPES)\n",
    "httpAuth_w = credentials_w.authorize(httplib2.Http())\n",
    "service_w = build('sheets', 'v4', http = httpAuth_w)"
   ]
  },
  {
   "cell_type": "code",
   "execution_count": 9,
   "metadata": {},
   "outputs": [],
   "source": [
    "spreadsheet = service.spreadsheets().get(spreadsheetId = spreadsheet_id).execute()\n",
    "sheetList = spreadsheet.get('sheets')\n",
    "sheet_name, sheet_id = [], []\n",
    "for sheet in sheetList:\n",
    "    sheet_name.append(sheet['properties']['title'])\n",
    "    sheet_id.append(sheet['properties']['sheetId'])"
   ]
  },
  {
   "cell_type": "code",
   "execution_count": 10,
   "metadata": {},
   "outputs": [],
   "source": [
    "def get_values(ranges, spreadsheet_id):   \n",
    "    results = service.spreadsheets().values().batchGet(spreadsheetId = spreadsheet_id, \n",
    "                                     ranges = ranges, \n",
    "                                     valueRenderOption = 'FORMATTED_VALUE',  \n",
    "                                     dateTimeRenderOption = 'FORMATTED_STRING').execute() \n",
    "    return results['valueRanges'][0]['values']"
   ]
  },
  {
   "cell_type": "code",
   "execution_count": 34,
   "metadata": {},
   "outputs": [],
   "source": [
    "path_folder_for_zip = 'C://Users/strelokask/Desktop/Amina/_project2/files'\n",
    "if os.path.exists(path_folder_for_zip):\n",
    "    print(\"Указанный файл существует\") \n",
    "else:\n",
    "    os.mkdir(path_folder_for_zip)"
   ]
  },
  {
   "cell_type": "code",
   "execution_count": 12,
   "metadata": {},
   "outputs": [
    {
     "name": "stdout",
     "output_type": "stream",
     "text": [
      "I\n",
      "A2\n",
      "B2\n",
      "H700\n"
     ]
    }
   ],
   "source": [
    "folder_start_column = 'A'\n",
    "folder_start_row = '2'\n",
    "url_start_column = 'B'\n",
    "url_start_row = '2'\n",
    "max_number_of_urls = '7'\n",
    "max_folder_count = '700'\n",
    "\n",
    "url_end_ = chr(ord(url_start_column) + int(max_number_of_urls))\n",
    "folder_start = folder_start_column + folder_start_row\n",
    "url_start = url_start_column + url_start_row\n",
    "range_ = chr(ord(folder_start_column) + int(max_number_of_urls)) + max_folder_count\n",
    "\n",
    "print(url_end_)\n",
    "print(folder_start)\n",
    "print(url_start)\n",
    "print(range_)"
   ]
  },
  {
   "cell_type": "code",
   "execution_count": 56,
   "metadata": {},
   "outputs": [
    {
     "name": "stdout",
     "output_type": "stream",
     "text": [
      "Указанный файл существует\n",
      "Указанный файл существует\n",
      "Other error occurred: Invalid URL 'http://': No host supplied\n"
     ]
    },
    {
     "data": {
      "text/plain": [
       "\"        count_img.append(len(elem) - 1)\\n    print('ya tut')\\n    range_sheet = folder_name + '!' + url_end_ + url_start_row + ':' + url_end_ + max_folder_count\\n    \\n    print(range_sheet)\\n    values = service_w.spreadsheets().values().batchUpdate(spreadsheetId = spreadsheet_id,\\n                                                       body = {'valueInputOption':'USER_ENTERED',\\n                                                               'data' : [{'range': range_sheet,\\n                                                                          'majorDimension':'ROWS',\\n                                                                          'values': count_img\\n                                                                          }]\\n                                                              }\\n                                                      ).execute()\""
      ]
     },
     "execution_count": 56,
     "metadata": {},
     "output_type": "execute_result"
    }
   ],
   "source": [
    "folders = []\n",
    "for folder_name in sheet_name[1:]:  \n",
    "    if os.path.exists(path_folder_for_zip + '/' + folder_name):\n",
    "        print(\"Указанный файл существует\") \n",
    "    else:\n",
    "        os.mkdir(path_folder_for_zip + '/' + folder_name)\n",
    "#    count_img = []    \n",
    "    path_of_directory_root = path_folder_for_zip + '/' + folder_name + '/'\n",
    "    ranges = [folder_name + '!' + folder_start + ':' + range_]  \n",
    "    sheet_values = get_values(ranges, spreadsheet_id)\n",
    "    for elem in sheet_values[65:]:  \n",
    "        path_of_directory = path_of_directory_root + elem[0]\n",
    "        folders.append(elem[0])\n",
    "        if os.path.exists(path_of_directory):\n",
    "            print(\"Указанный файл существует\") \n",
    "        else:\n",
    "            os.mkdir(path_of_directory)\n",
    "        count = len(elem)\n",
    "        for i in range(1, count):\n",
    "            url = 'http://' + elem[i]\n",
    "            try:\n",
    "                response = requests.get(url)\n",
    "                response.raise_for_status()\n",
    "            except HTTPError as http_err:\n",
    "                print(f'HTTP error occurred: {http_err}')  # Python 3.6\n",
    "            except Exception as err:\n",
    "                print(f'Other error occurred: {err}')  # Python 3.6\n",
    "            else:\n",
    "                path_for_image = path_of_directory + '/' + str(i) + '.jpg'\n",
    "                with open(path_for_image, \"wb\") as f:\n",
    "                    f.write(response.content)\n",
    "\n",
    "'''        count_img.append(len(elem) - 1)\n",
    "    print('ya tut')\n",
    "    range_sheet = folder_name + '!' + url_end_ + url_start_row + ':' + url_end_ + max_folder_count\n",
    "    \n",
    "    print(range_sheet)\n",
    "    values = service_w.spreadsheets().values().batchUpdate(spreadsheetId = spreadsheet_id,\n",
    "                                                       body = {'valueInputOption':'USER_ENTERED',\n",
    "                                                               'data' : [{'range': range_sheet,\n",
    "                                                                          'majorDimension':'ROWS',\n",
    "                                                                          'values': count_img\n",
    "                                                                          }]\n",
    "                                                              }\n",
    "                                                      ).execute()'''"
   ]
  },
  {
   "cell_type": "code",
   "execution_count": null,
   "metadata": {},
   "outputs": [],
   "source": []
  }
 ],
 "metadata": {
  "kernelspec": {
   "display_name": "Python 3",
   "language": "python",
   "name": "python3"
  },
  "language_info": {
   "codemirror_mode": {
    "name": "ipython",
    "version": 3
   },
   "file_extension": ".py",
   "mimetype": "text/x-python",
   "name": "python",
   "nbconvert_exporter": "python",
   "pygments_lexer": "ipython3",
   "version": "3.8.3"
  }
 },
 "nbformat": 4,
 "nbformat_minor": 4
}
