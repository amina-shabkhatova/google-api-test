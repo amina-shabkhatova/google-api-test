{
 "cells": [
  {
   "cell_type": "code",
   "execution_count": null,
   "metadata": {},
   "outputs": [],
   "source": [
    "pip install --upgrade google-api-python-client"
   ]
  },
  {
   "cell_type": "code",
   "execution_count": null,
   "metadata": {},
   "outputs": [],
   "source": [
    "pip install oauth2client"
   ]
  },
  {
   "cell_type": "code",
   "execution_count": 1,
   "metadata": {},
   "outputs": [],
   "source": [
    "from googleapiclient.http import MediaIoBaseDownload,MediaFileUpload\n",
    "from googleapiclient.discovery import build\n",
    "import pprint\n",
    "import os\n",
    "import httplib2 \n",
    "import requests\n",
    "from oauth2client.service_account import ServiceAccountCredentials\n",
    "import urllib.request\n",
    "from requests.exceptions import HTTPError\n",
    "\n",
    "pp = pprint.PrettyPrinter(indent=4)"
   ]
  },
  {
   "cell_type": "code",
   "execution_count": 2,
   "metadata": {},
   "outputs": [],
   "source": [
    "SCOPES = ['https://www.googleapis.com/auth/spreadsheets', 'https://www.googleapis.com/auth/drive']\n",
    "SERVICE_ACCOUNT_FILE = 'task2-download.json'\n",
    "spreadsheet_id = '1A6XaXqjBvh78RvLkCjSu8C6MNlxMcGlU67L6R_8tpDI'"
   ]
  },
  {
   "cell_type": "code",
   "execution_count": 3,
   "metadata": {},
   "outputs": [],
   "source": [
    "credentials = ServiceAccountCredentials.from_json_keyfile_name(\n",
    "        SERVICE_ACCOUNT_FILE, scopes=SCOPES)\n",
    "httpAuth = credentials.authorize(httplib2.Http())\n",
    "service = build('sheets', 'v4', http = httpAuth)"
   ]
  },
  {
   "cell_type": "code",
   "execution_count": 4,
   "metadata": {},
   "outputs": [],
   "source": [
    "spreadsheet = service.spreadsheets().get(spreadsheetId = spreadsheet_id).execute()\n",
    "sheetList = spreadsheet.get('sheets')\n",
    "sheet_name, sheet_id = [], []\n",
    "for sheet in sheetList:\n",
    "    sheet_name.append(sheet['properties']['title'])\n",
    "    sheet_id.append(sheet['properties']['sheetId'])"
   ]
  },
  {
   "cell_type": "code",
   "execution_count": 5,
   "metadata": {},
   "outputs": [],
   "source": [
    "def get_values(ranges, spreadsheetId):   \n",
    "    results = service.spreadsheets().values().batchGet(spreadsheetId = spreadsheetId, \n",
    "                                     ranges = ranges, \n",
    "                                     valueRenderOption = 'FORMATTED_VALUE',  \n",
    "                                     dateTimeRenderOption = 'FORMATTED_STRING').execute() \n",
    "    return results['valueRanges'][0]['values']"
   ]
  },
  {
   "cell_type": "code",
   "execution_count": 6,
   "metadata": {},
   "outputs": [],
   "source": [
    "def update_values(ranges, values, spreadsheetid, services):\n",
    "    values = services.spreadsheets().values().batchUpdate(spreadsheetId = spreadsheetid,\n",
    "                                                   body = {'valueInputOption':'USER_ENTERED',\n",
    "                                                           'data' : [{'range': ranges,\n",
    "                                                                      'majorDimension':'COLUMNS',\n",
    "                                                                      'values': values}\n",
    "                                                                    ]\n",
    "                                                          }\n",
    "                                                  ).execute()\n",
    "    return values"
   ]
  },
  {
   "cell_type": "code",
   "execution_count": 7,
   "metadata": {},
   "outputs": [
    {
     "name": "stdout",
     "output_type": "stream",
     "text": [
      "Указанный файл существует\n"
     ]
    }
   ],
   "source": [
    "path_folder_for_zip = 'C://Users/strelokask/Desktop/Amina/_project2/files'\n",
    "if os.path.exists(path_folder_for_zip):\n",
    "    print(\"Указанный файл существует\") \n",
    "else:\n",
    "    os.mkdir(path_folder_for_zip)"
   ]
  },
  {
   "cell_type": "code",
   "execution_count": 8,
   "metadata": {},
   "outputs": [],
   "source": [
    "folder_start_column = 'A'\n",
    "folder_start_row = '2'\n",
    "url_start_column = 'B'\n",
    "url_start_row = '2'\n",
    "max_number_of_urls = '7'\n",
    "max_folder_count = '699'\n",
    "\n",
    "url_end_ = chr(ord(url_start_column) + int(max_number_of_urls))\n",
    "folder_start = folder_start_column + folder_start_row\n",
    "url_start = url_start_column + url_start_row\n",
    "range_ = chr(ord(folder_start_column) + int(max_number_of_urls)) + max_folder_count"
   ]
  },
  {
   "cell_type": "code",
   "execution_count": 14,
   "metadata": {},
   "outputs": [],
   "source": [
    "folders, count_all_img = [], []\n",
    "for folder_name in sheet_name:  \n",
    "    if os.path.exists(path_folder_for_zip + '/' + folder_name):\n",
    "        print(\"Указанный файл существует\") \n",
    "    else:\n",
    "        os.mkdir(path_folder_for_zip + '/' + folder_name)\n",
    "    count_img = []    \n",
    "    path_of_directory_root = path_folder_for_zip + '/' + folder_name + '/'\n",
    "    ranges = [folder_name + '!' + folder_start + ':' + range_]  \n",
    "    sheet_values = get_values(ranges, spreadsheet_id)\n",
    "    for elem in sheet_values:  \n",
    "        excess = 1\n",
    "        path_of_directory = path_of_directory_root + elem[0]\n",
    "        folders.append(elem[0])\n",
    "        if os.path.exists(path_of_directory):\n",
    "            print(\"Указанный файл существует\") \n",
    "        else:\n",
    "            os.mkdir(path_of_directory)\n",
    "        count = len(elem) - 1\n",
    "        for i in range(1, count):\n",
    "            url = 'http://' + elem[i]\n",
    "            try:\n",
    "                response = requests.get(url)\n",
    "                response.raise_for_status()\n",
    "            except HTTPError as http_err:\n",
    "                count -= 1\n",
    "                print(f'HTTP error occurred: {http_err}')\n",
    "            except Exception as err:\n",
    "                count -= 1\n",
    "                print(f'Other error occurred: {err}')\n",
    "            else:\n",
    "                path_for_image = path_of_directory + '/' + str(i) + '.jpg'\n",
    "                with open(path_for_image, \"wb\") as f:\n",
    "                    f.write(response.content)\n",
    "        count_img.append(count)\n",
    "    count_all_img.append(count_img)"
   ]
  },
  {
   "cell_type": "code",
   "execution_count": 26,
   "metadata": {},
   "outputs": [],
   "source": [
    "folders = []\n",
    "path_for_image =''\n",
    "count_all_img = []\n",
    "url_list = []\n",
    "for folder_name in sheet_name:  \n",
    "    count_img = []    \n",
    "    excess = 1\n",
    "    path_of_directory_root = path_folder_for_zip + '/' + folder_name + '/'\n",
    "    ranges = [folder_name + '!' + folder_start + ':' + range_]  \n",
    "    sheet_values = get_values(ranges, spreadsheet_id)\n",
    "    for elem in sheet_values:\n",
    "        count = len(elem) - 1\n",
    "        for i in range(1, count):\n",
    "            if len(elem[i]) < 1:\n",
    "                count -= 1\n",
    "        count_img.append(count)\n",
    "    count_all_img.append(count_img)"
   ]
  },
  {
   "cell_type": "code",
   "execution_count": 25,
   "metadata": {},
   "outputs": [],
   "source": [
    "for i in range(len(sheet_name)):\n",
    "    count = str(len(count_all_img[i]) + 1)\n",
    "    range_sheet = sheet_name[i] + '!' + url_end_ + url_start_row + ':' + url_end_ + '3'\n",
    "    update_values(range_sheet, [count_all_img[i]], spreadsheet_id, service)"
   ]
  }
 ],
 "metadata": {
  "kernelspec": {
   "display_name": "Python 3",
   "language": "python",
   "name": "python3"
  },
  "language_info": {
   "codemirror_mode": {
    "name": "ipython",
    "version": 3
   },
   "file_extension": ".py",
   "mimetype": "text/x-python",
   "name": "python",
   "nbconvert_exporter": "python",
   "pygments_lexer": "ipython3",
   "version": "3.8.3"
  }
 },
 "nbformat": 4,
 "nbformat_minor": 4
}
