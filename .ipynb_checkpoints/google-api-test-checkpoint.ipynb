{
 "cells": [
  {
   "cell_type": "code",
   "execution_count": 1,
   "metadata": {},
   "outputs": [
    {
     "name": "stdout",
     "output_type": "stream",
     "text": [
      "Requirement already up-to-date: google-api-python-client in c:\\programdata\\anaconda3\\lib\\site-packages (1.12.8)\n",
      "Requirement already satisfied, skipping upgrade: google-api-core<2dev,>=1.21.0 in c:\\programdata\\anaconda3\\lib\\site-packages (from google-api-python-client) (1.23.0)\n",
      "Requirement already satisfied, skipping upgrade: six<2dev,>=1.13.0 in c:\\programdata\\anaconda3\\lib\\site-packages (from google-api-python-client) (1.15.0)\n",
      "Requirement already satisfied, skipping upgrade: uritemplate<4dev,>=3.0.0 in c:\\programdata\\anaconda3\\lib\\site-packages (from google-api-python-client) (3.0.1)\n",
      "Requirement already satisfied, skipping upgrade: httplib2<1dev,>=0.15.0 in c:\\programdata\\anaconda3\\lib\\site-packages (from google-api-python-client) (0.18.1)\n",
      "Requirement already satisfied, skipping upgrade: google-auth-httplib2>=0.0.3 in c:\\programdata\\anaconda3\\lib\\site-packages (from google-api-python-client) (0.0.4)\n",
      "Requirement already satisfied, skipping upgrade: google-auth>=1.16.0 in c:\\programdata\\anaconda3\\lib\\site-packages (from google-api-python-client) (1.23.0)\n",
      "Requirement already satisfied, skipping upgrade: googleapis-common-protos<2.0dev,>=1.6.0 in c:\\programdata\\anaconda3\\lib\\site-packages (from google-api-core<2dev,>=1.21.0->google-api-python-client) (1.52.0)\n",
      "Requirement already satisfied, skipping upgrade: setuptools>=34.0.0 in c:\\programdata\\anaconda3\\lib\\site-packages (from google-api-core<2dev,>=1.21.0->google-api-python-client) (49.2.0.post20200714)\n",
      "Requirement already satisfied, skipping upgrade: protobuf>=3.12.0 in c:\\programdata\\anaconda3\\lib\\site-packages (from google-api-core<2dev,>=1.21.0->google-api-python-client) (3.14.0)\n",
      "Requirement already satisfied, skipping upgrade: pytz in c:\\programdata\\anaconda3\\lib\\site-packages (from google-api-core<2dev,>=1.21.0->google-api-python-client) (2020.1)\n",
      "Requirement already satisfied, skipping upgrade: requests<3.0.0dev,>=2.18.0 in c:\\programdata\\anaconda3\\lib\\site-packages (from google-api-core<2dev,>=1.21.0->google-api-python-client) (2.24.0)\n",
      "Requirement already satisfied, skipping upgrade: pyasn1-modules>=0.2.1 in c:\\programdata\\anaconda3\\lib\\site-packages (from google-auth>=1.16.0->google-api-python-client) (0.2.8)\n",
      "Requirement already satisfied, skipping upgrade: rsa<5,>=3.1.4; python_version >= \"3.5\" in c:\\programdata\\anaconda3\\lib\\site-packages (from google-auth>=1.16.0->google-api-python-client) (4.6)\n",
      "Requirement already satisfied, skipping upgrade: cachetools<5.0,>=2.0.0 in c:\\programdata\\anaconda3\\lib\\site-packages (from google-auth>=1.16.0->google-api-python-client) (4.1.1)\n",
      "Requirement already satisfied, skipping upgrade: idna<3,>=2.5 in c:\\programdata\\anaconda3\\lib\\site-packages (from requests<3.0.0dev,>=2.18.0->google-api-core<2dev,>=1.21.0->google-api-python-client) (2.10)\n",
      "Requirement already satisfied, skipping upgrade: urllib3!=1.25.0,!=1.25.1,<1.26,>=1.21.1 in c:\\programdata\\anaconda3\\lib\\site-packages (from requests<3.0.0dev,>=2.18.0->google-api-core<2dev,>=1.21.0->google-api-python-client) (1.25.9)\n",
      "Requirement already satisfied, skipping upgrade: certifi>=2017.4.17 in c:\\programdata\\anaconda3\\lib\\site-packages (from requests<3.0.0dev,>=2.18.0->google-api-core<2dev,>=1.21.0->google-api-python-client) (2020.6.20)\n",
      "Requirement already satisfied, skipping upgrade: chardet<4,>=3.0.2 in c:\\programdata\\anaconda3\\lib\\site-packages (from requests<3.0.0dev,>=2.18.0->google-api-core<2dev,>=1.21.0->google-api-python-client) (3.0.4)\n",
      "Requirement already satisfied, skipping upgrade: pyasn1<0.5.0,>=0.4.6 in c:\\programdata\\anaconda3\\lib\\site-packages (from pyasn1-modules>=0.2.1->google-auth>=1.16.0->google-api-python-client) (0.4.8)\n",
      "Note: you may need to restart the kernel to use updated packages.\n"
     ]
    }
   ],
   "source": [
    "pip install --upgrade google-api-python-client"
   ]
  },
  {
   "cell_type": "code",
   "execution_count": 8,
   "metadata": {},
   "outputs": [
    {
     "name": "stdout",
     "output_type": "stream",
     "text": [
      "Requirement already satisfied: oauth2client in c:\\programdata\\anaconda3\\lib\\site-packages (4.1.3)Note: you may need to restart the kernel to use updated packages.\n",
      "Requirement already satisfied: rsa>=3.1.4 in c:\\programdata\\anaconda3\\lib\\site-packages (from oauth2client) (4.6)\n",
      "Requirement already satisfied: httplib2>=0.9.1 in c:\\programdata\\anaconda3\\lib\\site-packages (from oauth2client) (0.18.1)\n",
      "Requirement already satisfied: pyasn1-modules>=0.0.5 in c:\\programdata\\anaconda3\\lib\\site-packages (from oauth2client) (0.2.8)\n",
      "Requirement already satisfied: pyasn1>=0.1.7 in c:\\programdata\\anaconda3\\lib\\site-packages (from oauth2client) (0.4.8)\n",
      "Requirement already satisfied: six>=1.6.1 in c:\\programdata\\anaconda3\\lib\\site-packages (from oauth2client) (1.15.0)\n",
      "\n"
     ]
    }
   ],
   "source": [
    "pip install oauth2client"
   ]
  },
  {
   "cell_type": "code",
   "execution_count": 2,
   "metadata": {},
   "outputs": [],
   "source": [
    "from google.oauth2 import service_account\n",
    "from googleapiclient.discovery import build\n",
    "import pprint\n",
    "import httplib2 \n",
    "from oauth2client.service_account import ServiceAccountCredentials\n",
    "pp = pprint.PrettyPrinter(indent=4)"
   ]
  },
  {
   "cell_type": "code",
   "execution_count": 3,
   "metadata": {},
   "outputs": [],
   "source": [
    "SCOPES = ['https://www.googleapis.com/auth/drive']\n",
    "SERVICE_ACCOUNT_FILE = 'task1-read.json'"
   ]
  },
  {
   "cell_type": "code",
   "execution_count": 4,
   "metadata": {},
   "outputs": [],
   "source": [
    "credentials = service_account.Credentials.from_service_account_file(\n",
    "        SERVICE_ACCOUNT_FILE, scopes=SCOPES)\n",
    "service = build('drive', 'v3', credentials=credentials)"
   ]
  },
  {
   "cell_type": "code",
   "execution_count": 10,
   "metadata": {},
   "outputs": [],
   "source": [
    "SCOPES_W = ['https://www.googleapis.com/auth/spreadsheets', 'https://www.googleapis.com/auth/drive']\n",
    "SERVICE_ACCOUNT_FILE_W = 'task1-write.json'\n",
    "spreadsheet_id = '1rcyTVLcXprdkzK6mbbl-SGKxnL75dOpEoA3XfNPQEx8'"
   ]
  },
  {
   "cell_type": "code",
   "execution_count": 11,
   "metadata": {},
   "outputs": [],
   "source": [
    "w_credentials = ServiceAccountCredentials.from_json_keyfile_name(\n",
    "        SERVICE_ACCOUNT_FILE_W, scopes=SCOPES_W)\n",
    "httpAuth = w_credentials.authorize(httplib2.Http())\n",
    "w_service = build('sheets', 'v4', http = httpAuth)"
   ]
  },
  {
   "cell_type": "code",
   "execution_count": 5,
   "metadata": {},
   "outputs": [],
   "source": [
    "results = service.files().list(pageSize=1000,\n",
    "                               fields=\"nextPageToken, files(id, name, mimeType, parents)\").execute()\n",
    "nextPageToken = results.get('nextPageToken')\n",
    "while nextPageToken:\n",
    "        nextPage = service.files().list(pageSize=1000,\n",
    "                                        fields=\"nextPageToken, files(id, name, mimeType, parents)\",\n",
    "                                        pageToken=nextPageToken).execute()\n",
    "        nextPageToken = nextPage.get('nextPageToken')\n",
    "        results['files'] = results['files'] + nextPage['files']"
   ]
  },
  {
   "cell_type": "code",
   "execution_count": null,
   "metadata": {},
   "outputs": [],
   "source": [
    "all_folders, delete_files = [], []\n",
    "for res in results['files']:\n",
    "    if res['mimeType'] == 'application/vnd.google-apps.folder':\n",
    "        dictr={}\n",
    "        dictr['folder_id'] = res['id']\n",
    "        dictr['folder_name'] = res['name']\n",
    "        dictr['images'] = []\n",
    "        dictr['ini_format'] = []\n",
    "        for obj in results['files']:\n",
    "            if 'parents' in obj.keys():\n",
    "                if obj['mimeType'].startswith('image/') and obj['parents'] == [res['id']]:\n",
    "                    dictr['images'].append(obj['name'])\n",
    "                if obj['mimeType'].startswith('image/') and obj['parents'] == [res['id']]:\n",
    "        all_folders.append(dict)\n",
    "    if res['mimeType'] != 'application/vnd.google-apps.folder' and not(res['mimeType'].startswith('image/')):\n",
    "        dictr={}\n",
    "        dictr['folder_id'] = res['id']\n",
    "        dictr['folder_name'] = res['name']\n",
    "        delete_files.append(dictr)"
   ]
  },
  {
   "cell_type": "code",
   "execution_count": 6,
   "metadata": {},
   "outputs": [],
   "source": [
    "def find_full_path(items, folder_id, res):\n",
    "    for item in items:\n",
    "        if folder_id == item['id']:\n",
    "            if \"parents\" in item:\n",
    "                return find_full_path(items, item['parents'][0], (item['name']+'/'+ res[0], res[1] + 1))\n",
    "            return (item['name']+'/'+ res[0], res[1] + 1)\n",
    "    return res"
   ]
  },
  {
   "cell_type": "code",
   "execution_count": null,
   "metadata": {},
   "outputs": [],
   "source": [
    "full_path_image, full_path_empty_folder, data_for_page, files_for_delete = [], [], [], []\n",
    "\n",
    "for f in all_folders:\n",
    "    if len(f['images']) > 0:\n",
    "        full_path, count = find_full_path(results['files'], f['folder_id'], ('', 0))\n",
    "        for img in f['images']:\n",
    "            full_path_image.append(['gs://project/' + str(full_path) + img + ', ' + f['folder_name']])\n",
    "            \n",
    "data_for_page.append(full_path_image)"
   ]
  },
  {
   "cell_type": "code",
   "execution_count": null,
   "metadata": {},
   "outputs": [],
   "source": [
    "for f in all_folders:\n",
    "    if len(f['images']) == 0:\n",
    "        path, count_f = find_full_path(results['files'], f['folder_id'], ('', 0))\n",
    "        if count_f == count:\n",
    "            full_path_empty_folder.append([path[:-1]])\n",
    "    if f['folder_name'].lower() == 'новая папка':\n",
    "        path, _ = find_full_path(results['files'], f['folder_id'], ('', 0))\n",
    "        files_for_delete.append(path)\n",
    "        \n",
    "data_for_page.append(full_path_empty_folder)"
   ]
  },
  {
   "cell_type": "code",
   "execution_count": null,
   "metadata": {},
   "outputs": [],
   "source": [
    "for f in delete_files:\n",
    "    path, count_f = find_full_path(results['files'], f['folder_id'], ('', 0))\n",
    "    files_for_delete.append(path[:-1])"
   ]
  },
  {
   "cell_type": "code",
   "execution_count": 12,
   "metadata": {},
   "outputs": [],
   "source": [
    "spreadsheet = w_service.spreadsheets().get(spreadsheetId = spreadsheet_id).execute()\n",
    "sheetList = spreadsheet.get('sheets')\n",
    "sheet_name, sheet_id = [], []\n",
    "for sheet in sheetList:\n",
    "    sheet_name.append(sheet['properties']['title'])\n",
    "    sheet_id.append(sheet['properties']['sheetId'])"
   ]
  },
  {
   "cell_type": "code",
   "execution_count": 13,
   "metadata": {},
   "outputs": [],
   "source": [
    "def update_value(data):\n",
    "    values = w_service.spreadsheets().values().batchUpdate(spreadsheetId = spreadsheet_id,\n",
    "                                                       body = {'valueInputOption':'USER_ENTERED',\n",
    "                                                               'data' : data\n",
    "                                                              }).execute()\n",
    "    return values"
   ]
  },
  {
   "cell_type": "code",
   "execution_count": null,
   "metadata": {},
   "outputs": [],
   "source": [
    "def create_data(sheet_name, rang_start, data_for_page, majorDimension = 'ROWS'):\n",
    "    data = []\n",
    "    for i in range(len(sheet_name)):\n",
    "        dictr = {}\n",
    "        dictr['range'] = sheet_name[i] + rang_start + str(len(data_for_page[i]))\n",
    "        dictr['majorDimension'] = majorDimension\n",
    "        dictr['values'] = data_for_page[i]\n",
    "        data.append(dictr)\n",
    "    return data"
   ]
  },
  {
   "cell_type": "code",
   "execution_count": null,
   "metadata": {},
   "outputs": [],
   "source": [
    "data = create_data(sheet_name, '!A1:A', data_for_page)"
   ]
  },
  {
   "cell_type": "code",
   "execution_count": null,
   "metadata": {},
   "outputs": [],
   "source": [
    "val = update_value(data)"
   ]
  }
 ],
 "metadata": {
  "kernelspec": {
   "display_name": "Python 3",
   "language": "python",
   "name": "python3"
  },
  "language_info": {
   "codemirror_mode": {
    "name": "ipython",
    "version": 3
   },
   "file_extension": ".py",
   "mimetype": "text/x-python",
   "name": "python",
   "nbconvert_exporter": "python",
   "pygments_lexer": "ipython3",
   "version": "3.8.3"
  }
 },
 "nbformat": 4,
 "nbformat_minor": 4
}
